{
 "cells": [
  {
   "cell_type": "markdown",
   "id": "b40a9f20-7b96-4d67-9fe7-41946b55984f",
   "metadata": {},
   "source": [
    "# Imports"
   ]
  },
  {
   "cell_type": "code",
   "execution_count": 78,
   "id": "9d5e3d86-ab8f-4f83-90ff-812e197866f4",
   "metadata": {},
   "outputs": [],
   "source": [
    "import yfinance as yf\n",
    "import pandas as pd\n",
    "import numpy as np\n",
    "import matplotlib.pyplot as plt\n",
    "import seaborn as sns\n",
    "from statsmodels.tsa.holtwinters import ExponentialSmoothing"
   ]
  },
  {
   "cell_type": "code",
   "execution_count": 31,
   "id": "26f2829c-31c9-4c7b-a70c-9a11d7d11f69",
   "metadata": {},
   "outputs": [
    {
     "data": {
      "text/plain": [
       "210.825"
      ]
     },
     "execution_count": 31,
     "metadata": {},
     "output_type": "execute_result"
    }
   ],
   "source": [
    "test=yf.Ticker('AAPL')\n",
    "test.info.get('currentPrice')"
   ]
  },
  {
   "cell_type": "markdown",
   "id": "af7f4758-d1be-4dab-9cfb-dad0efa3a648",
   "metadata": {},
   "source": [
    "# Ticker List"
   ]
  },
  {
   "cell_type": "code",
   "execution_count": 33,
   "id": "9948a490-deb2-4f04-a270-c0fe93bf9dff",
   "metadata": {},
   "outputs": [
    {
     "data": {
      "text/plain": [
       "29"
      ]
     },
     "execution_count": 33,
     "metadata": {},
     "output_type": "execute_result"
    }
   ],
   "source": [
    "tickers = [\n",
    "    \"ITC.NS\", \"HINDUNILVR.NS\", \"POWERGRID.NS\", \"COALINDIA.NS\", \"NTPC.NS\",\n",
    "    \"BAJAJ-AUTO.NS\", \"NESTLEIND.NS\", \"HDFCLIFE.NS\", \"PGHH.NS\", \"PIDILITIND.NS\",\n",
    "    \"ADANIENT.NS\", \"RELIANCE.NS\", \"TATAMOTORS.NS\", \"IDEA.NS\", \"ZEEL.NS\",\n",
    "    \"INDUSINDBK.NS\", \"YESBANK.NS\", \"BANDHANBNK.NS\", \"IRCTC.NS\",\n",
    "    \"SBIN.NS\", \"PNB.NS\", \"ICICIBANK.NS\", \"TATAPOWER.NS\", \"TATACHEM.NS\",\n",
    "    \"VOLTAS.NS\", \"SAIL.NS\", \"ASHOKLEY.NS\", \"BANKBARODA.NS\", \"DLF.NS\"\n",
    "]\n",
    "\n",
    "len(tickers)\n"
   ]
  },
  {
   "cell_type": "markdown",
   "id": "250a3ec6-406c-4e0e-9569-61a7cc1ca659",
   "metadata": {},
   "source": [
    "# Storing relevent details of Tickers in a Pandas Dataframe"
   ]
  },
  {
   "cell_type": "code",
   "execution_count": 35,
   "id": "44f921a8-6eed-47b8-924a-5e4093cb9265",
   "metadata": {},
   "outputs": [
    {
     "name": "stdout",
     "output_type": "stream",
     "text": [
      "Fetched: ITC.NS\n",
      "Fetched: HINDUNILVR.NS\n",
      "Fetched: POWERGRID.NS\n",
      "Fetched: COALINDIA.NS\n",
      "Fetched: NTPC.NS\n",
      "Fetched: BAJAJ-AUTO.NS\n",
      "Fetched: NESTLEIND.NS\n",
      "Fetched: HDFCLIFE.NS\n",
      "Fetched: PGHH.NS\n",
      "Fetched: PIDILITIND.NS\n",
      "Fetched: ADANIENT.NS\n",
      "Fetched: RELIANCE.NS\n",
      "Fetched: TATAMOTORS.NS\n",
      "Fetched: IDEA.NS\n",
      "Fetched: ZEEL.NS\n",
      "Fetched: INDUSINDBK.NS\n",
      "Fetched: YESBANK.NS\n",
      "Fetched: BANDHANBNK.NS\n",
      "Fetched: IRCTC.NS\n",
      "Fetched: SBIN.NS\n",
      "Fetched: PNB.NS\n",
      "Fetched: ICICIBANK.NS\n",
      "Fetched: TATAPOWER.NS\n",
      "Fetched: TATACHEM.NS\n",
      "Fetched: VOLTAS.NS\n",
      "Fetched: SAIL.NS\n",
      "Fetched: ASHOKLEY.NS\n",
      "Fetched: BANKBARODA.NS\n",
      "Fetched: DLF.NS\n",
      "          ticker  currentPrice   beta      marketCap    volume  dividendYield  \\\n",
      "0         ITC.NS        416.80  0.055  5217293697024   8577381           3.77   \n",
      "1  HINDUNILVR.NS       2519.60  0.367  5924688232448   7241739           2.09   \n",
      "2   POWERGRID.NS        298.55  0.258  2776693997568   7072933           5.00   \n",
      "3   COALINDIA.NS        380.95  0.033  2348915097600   4675734           8.06   \n",
      "4        NTPC.NS        342.70  0.229  3323048755200  17233499           3.43   \n",
      "\n",
      "               sector  \n",
      "0  Consumer Defensive  \n",
      "1  Consumer Defensive  \n",
      "2           Utilities  \n",
      "3              Energy  \n",
      "4           Utilities  \n",
      "       currentPrice       beta     marketCap        volume  dividendYield\n",
      "count     29.000000  29.000000  2.900000e+01  2.900000e+01      27.000000\n",
      "mean    1535.774483   0.413828  2.835607e+12  1.916714e+07       1.845185\n",
      "std     2738.388678   0.340997  4.122230e+12  6.275357e+07       1.748990\n",
      "min        7.170000  -0.176000  1.347541e+11  6.467000e+03       0.050000\n",
      "25%      246.250000   0.204000  6.229055e+11  8.657800e+05       0.640000\n",
      "50%      759.000000   0.367000  1.529988e+12  6.153736e+06       1.410000\n",
      "75%     1421.900000   0.521000  2.776694e+12  8.271453e+06       2.500000\n",
      "max    13194.000000   1.433000  2.055780e+13  3.415593e+08       8.060000\n"
     ]
    }
   ],
   "source": [
    "stock_data=[]\n",
    "for ticker in tickers:\n",
    "     try:\n",
    "        info=yf.Ticker(ticker).info\n",
    "        stock_data.append({\n",
    "            'ticker':ticker,\n",
    "            'currentPrice':info.get('currentPrice'),\n",
    "            'beta':info.get('beta'),\n",
    "            'marketCap':info.get('marketCap'),\n",
    "            'volume': info.get('volume'),\n",
    "            'dividendYield': info.get('dividendYield'),\n",
    "            'sector': info.get('sector')\n",
    "        })\n",
    "        print(f\"Fetched: {ticker}\")\n",
    "     except Exception as e:\n",
    "        print(f\"Failed: {ticker} - {e}\")\n",
    "dataset=pd.DataFrame(stock_data)\n",
    "print(dataset.head())\n",
    "print(dataset.describe())"
   ]
  },
  {
   "cell_type": "markdown",
   "id": "c5e48f19-fd87-49b0-ae3f-a0625476e3de",
   "metadata": {},
   "source": [
    "# Handling NULL/Missing values"
   ]
  },
  {
   "cell_type": "code",
   "execution_count": 37,
   "id": "9ba49f42-4930-4cc2-935d-c8bb167b8008",
   "metadata": {},
   "outputs": [
    {
     "data": {
      "text/html": [
       "<div>\n",
       "<style scoped>\n",
       "    .dataframe tbody tr th:only-of-type {\n",
       "        vertical-align: middle;\n",
       "    }\n",
       "\n",
       "    .dataframe tbody tr th {\n",
       "        vertical-align: top;\n",
       "    }\n",
       "\n",
       "    .dataframe thead th {\n",
       "        text-align: right;\n",
       "    }\n",
       "</style>\n",
       "<table border=\"1\" class=\"dataframe\">\n",
       "  <thead>\n",
       "    <tr style=\"text-align: right;\">\n",
       "      <th></th>\n",
       "      <th>ticker</th>\n",
       "      <th>currentPrice</th>\n",
       "      <th>beta</th>\n",
       "      <th>marketCap</th>\n",
       "      <th>volume</th>\n",
       "      <th>dividendYield</th>\n",
       "      <th>sector</th>\n",
       "    </tr>\n",
       "  </thead>\n",
       "  <tbody>\n",
       "    <tr>\n",
       "      <th>0</th>\n",
       "      <td>False</td>\n",
       "      <td>False</td>\n",
       "      <td>False</td>\n",
       "      <td>False</td>\n",
       "      <td>False</td>\n",
       "      <td>False</td>\n",
       "      <td>False</td>\n",
       "    </tr>\n",
       "    <tr>\n",
       "      <th>1</th>\n",
       "      <td>False</td>\n",
       "      <td>False</td>\n",
       "      <td>False</td>\n",
       "      <td>False</td>\n",
       "      <td>False</td>\n",
       "      <td>False</td>\n",
       "      <td>False</td>\n",
       "    </tr>\n",
       "    <tr>\n",
       "      <th>2</th>\n",
       "      <td>False</td>\n",
       "      <td>False</td>\n",
       "      <td>False</td>\n",
       "      <td>False</td>\n",
       "      <td>False</td>\n",
       "      <td>False</td>\n",
       "      <td>False</td>\n",
       "    </tr>\n",
       "    <tr>\n",
       "      <th>3</th>\n",
       "      <td>False</td>\n",
       "      <td>False</td>\n",
       "      <td>False</td>\n",
       "      <td>False</td>\n",
       "      <td>False</td>\n",
       "      <td>False</td>\n",
       "      <td>False</td>\n",
       "    </tr>\n",
       "    <tr>\n",
       "      <th>4</th>\n",
       "      <td>False</td>\n",
       "      <td>False</td>\n",
       "      <td>False</td>\n",
       "      <td>False</td>\n",
       "      <td>False</td>\n",
       "      <td>False</td>\n",
       "      <td>False</td>\n",
       "    </tr>\n",
       "    <tr>\n",
       "      <th>5</th>\n",
       "      <td>False</td>\n",
       "      <td>False</td>\n",
       "      <td>False</td>\n",
       "      <td>False</td>\n",
       "      <td>False</td>\n",
       "      <td>False</td>\n",
       "      <td>False</td>\n",
       "    </tr>\n",
       "    <tr>\n",
       "      <th>6</th>\n",
       "      <td>False</td>\n",
       "      <td>False</td>\n",
       "      <td>False</td>\n",
       "      <td>False</td>\n",
       "      <td>False</td>\n",
       "      <td>False</td>\n",
       "      <td>False</td>\n",
       "    </tr>\n",
       "    <tr>\n",
       "      <th>7</th>\n",
       "      <td>False</td>\n",
       "      <td>False</td>\n",
       "      <td>False</td>\n",
       "      <td>False</td>\n",
       "      <td>False</td>\n",
       "      <td>False</td>\n",
       "      <td>False</td>\n",
       "    </tr>\n",
       "    <tr>\n",
       "      <th>8</th>\n",
       "      <td>False</td>\n",
       "      <td>False</td>\n",
       "      <td>False</td>\n",
       "      <td>False</td>\n",
       "      <td>False</td>\n",
       "      <td>False</td>\n",
       "      <td>False</td>\n",
       "    </tr>\n",
       "    <tr>\n",
       "      <th>9</th>\n",
       "      <td>False</td>\n",
       "      <td>False</td>\n",
       "      <td>False</td>\n",
       "      <td>False</td>\n",
       "      <td>False</td>\n",
       "      <td>False</td>\n",
       "      <td>False</td>\n",
       "    </tr>\n",
       "    <tr>\n",
       "      <th>10</th>\n",
       "      <td>False</td>\n",
       "      <td>False</td>\n",
       "      <td>False</td>\n",
       "      <td>False</td>\n",
       "      <td>False</td>\n",
       "      <td>False</td>\n",
       "      <td>False</td>\n",
       "    </tr>\n",
       "    <tr>\n",
       "      <th>11</th>\n",
       "      <td>False</td>\n",
       "      <td>False</td>\n",
       "      <td>False</td>\n",
       "      <td>False</td>\n",
       "      <td>False</td>\n",
       "      <td>False</td>\n",
       "      <td>False</td>\n",
       "    </tr>\n",
       "    <tr>\n",
       "      <th>12</th>\n",
       "      <td>False</td>\n",
       "      <td>False</td>\n",
       "      <td>False</td>\n",
       "      <td>False</td>\n",
       "      <td>False</td>\n",
       "      <td>False</td>\n",
       "      <td>False</td>\n",
       "    </tr>\n",
       "    <tr>\n",
       "      <th>13</th>\n",
       "      <td>False</td>\n",
       "      <td>False</td>\n",
       "      <td>False</td>\n",
       "      <td>False</td>\n",
       "      <td>False</td>\n",
       "      <td>True</td>\n",
       "      <td>False</td>\n",
       "    </tr>\n",
       "    <tr>\n",
       "      <th>14</th>\n",
       "      <td>False</td>\n",
       "      <td>False</td>\n",
       "      <td>False</td>\n",
       "      <td>False</td>\n",
       "      <td>False</td>\n",
       "      <td>False</td>\n",
       "      <td>False</td>\n",
       "    </tr>\n",
       "    <tr>\n",
       "      <th>15</th>\n",
       "      <td>False</td>\n",
       "      <td>False</td>\n",
       "      <td>False</td>\n",
       "      <td>False</td>\n",
       "      <td>False</td>\n",
       "      <td>False</td>\n",
       "      <td>False</td>\n",
       "    </tr>\n",
       "    <tr>\n",
       "      <th>16</th>\n",
       "      <td>False</td>\n",
       "      <td>False</td>\n",
       "      <td>False</td>\n",
       "      <td>False</td>\n",
       "      <td>False</td>\n",
       "      <td>True</td>\n",
       "      <td>False</td>\n",
       "    </tr>\n",
       "    <tr>\n",
       "      <th>17</th>\n",
       "      <td>False</td>\n",
       "      <td>False</td>\n",
       "      <td>False</td>\n",
       "      <td>False</td>\n",
       "      <td>False</td>\n",
       "      <td>False</td>\n",
       "      <td>False</td>\n",
       "    </tr>\n",
       "    <tr>\n",
       "      <th>18</th>\n",
       "      <td>False</td>\n",
       "      <td>False</td>\n",
       "      <td>False</td>\n",
       "      <td>False</td>\n",
       "      <td>False</td>\n",
       "      <td>False</td>\n",
       "      <td>False</td>\n",
       "    </tr>\n",
       "    <tr>\n",
       "      <th>19</th>\n",
       "      <td>False</td>\n",
       "      <td>False</td>\n",
       "      <td>False</td>\n",
       "      <td>False</td>\n",
       "      <td>False</td>\n",
       "      <td>False</td>\n",
       "      <td>False</td>\n",
       "    </tr>\n",
       "    <tr>\n",
       "      <th>20</th>\n",
       "      <td>False</td>\n",
       "      <td>False</td>\n",
       "      <td>False</td>\n",
       "      <td>False</td>\n",
       "      <td>False</td>\n",
       "      <td>False</td>\n",
       "      <td>False</td>\n",
       "    </tr>\n",
       "    <tr>\n",
       "      <th>21</th>\n",
       "      <td>False</td>\n",
       "      <td>False</td>\n",
       "      <td>False</td>\n",
       "      <td>False</td>\n",
       "      <td>False</td>\n",
       "      <td>False</td>\n",
       "      <td>False</td>\n",
       "    </tr>\n",
       "    <tr>\n",
       "      <th>22</th>\n",
       "      <td>False</td>\n",
       "      <td>False</td>\n",
       "      <td>False</td>\n",
       "      <td>False</td>\n",
       "      <td>False</td>\n",
       "      <td>False</td>\n",
       "      <td>False</td>\n",
       "    </tr>\n",
       "    <tr>\n",
       "      <th>23</th>\n",
       "      <td>False</td>\n",
       "      <td>False</td>\n",
       "      <td>False</td>\n",
       "      <td>False</td>\n",
       "      <td>False</td>\n",
       "      <td>False</td>\n",
       "      <td>False</td>\n",
       "    </tr>\n",
       "    <tr>\n",
       "      <th>24</th>\n",
       "      <td>False</td>\n",
       "      <td>False</td>\n",
       "      <td>False</td>\n",
       "      <td>False</td>\n",
       "      <td>False</td>\n",
       "      <td>False</td>\n",
       "      <td>False</td>\n",
       "    </tr>\n",
       "    <tr>\n",
       "      <th>25</th>\n",
       "      <td>False</td>\n",
       "      <td>False</td>\n",
       "      <td>False</td>\n",
       "      <td>False</td>\n",
       "      <td>False</td>\n",
       "      <td>False</td>\n",
       "      <td>False</td>\n",
       "    </tr>\n",
       "    <tr>\n",
       "      <th>26</th>\n",
       "      <td>False</td>\n",
       "      <td>False</td>\n",
       "      <td>False</td>\n",
       "      <td>False</td>\n",
       "      <td>False</td>\n",
       "      <td>False</td>\n",
       "      <td>False</td>\n",
       "    </tr>\n",
       "    <tr>\n",
       "      <th>27</th>\n",
       "      <td>False</td>\n",
       "      <td>False</td>\n",
       "      <td>False</td>\n",
       "      <td>False</td>\n",
       "      <td>False</td>\n",
       "      <td>False</td>\n",
       "      <td>False</td>\n",
       "    </tr>\n",
       "    <tr>\n",
       "      <th>28</th>\n",
       "      <td>False</td>\n",
       "      <td>False</td>\n",
       "      <td>False</td>\n",
       "      <td>False</td>\n",
       "      <td>False</td>\n",
       "      <td>False</td>\n",
       "      <td>False</td>\n",
       "    </tr>\n",
       "  </tbody>\n",
       "</table>\n",
       "</div>"
      ],
      "text/plain": [
       "    ticker  currentPrice   beta  marketCap  volume  dividendYield  sector\n",
       "0    False         False  False      False   False          False   False\n",
       "1    False         False  False      False   False          False   False\n",
       "2    False         False  False      False   False          False   False\n",
       "3    False         False  False      False   False          False   False\n",
       "4    False         False  False      False   False          False   False\n",
       "5    False         False  False      False   False          False   False\n",
       "6    False         False  False      False   False          False   False\n",
       "7    False         False  False      False   False          False   False\n",
       "8    False         False  False      False   False          False   False\n",
       "9    False         False  False      False   False          False   False\n",
       "10   False         False  False      False   False          False   False\n",
       "11   False         False  False      False   False          False   False\n",
       "12   False         False  False      False   False          False   False\n",
       "13   False         False  False      False   False           True   False\n",
       "14   False         False  False      False   False          False   False\n",
       "15   False         False  False      False   False          False   False\n",
       "16   False         False  False      False   False           True   False\n",
       "17   False         False  False      False   False          False   False\n",
       "18   False         False  False      False   False          False   False\n",
       "19   False         False  False      False   False          False   False\n",
       "20   False         False  False      False   False          False   False\n",
       "21   False         False  False      False   False          False   False\n",
       "22   False         False  False      False   False          False   False\n",
       "23   False         False  False      False   False          False   False\n",
       "24   False         False  False      False   False          False   False\n",
       "25   False         False  False      False   False          False   False\n",
       "26   False         False  False      False   False          False   False\n",
       "27   False         False  False      False   False          False   False\n",
       "28   False         False  False      False   False          False   False"
      ]
     },
     "execution_count": 37,
     "metadata": {},
     "output_type": "execute_result"
    }
   ],
   "source": [
    "dataset.isnull()"
   ]
  },
  {
   "cell_type": "code",
   "execution_count": 38,
   "id": "fc609739-1940-4943-8e7a-faf80d0403f9",
   "metadata": {},
   "outputs": [],
   "source": [
    "dataset_cleaned=dataset.dropna(subset=dataset.columns.difference(['ticker']),how='all')"
   ]
  },
  {
   "cell_type": "code",
   "execution_count": 39,
   "id": "977d2ab6-8920-4cb7-a3da-05ce9eaaf94c",
   "metadata": {},
   "outputs": [
    {
     "data": {
      "text/plain": [
       "2"
      ]
     },
     "execution_count": 39,
     "metadata": {},
     "output_type": "execute_result"
    }
   ],
   "source": [
    "dataset_cleaned['dividendYield'].isnull().sum()"
   ]
  },
  {
   "cell_type": "markdown",
   "id": "906999ca-5380-4033-9012-339f1e76dc5c",
   "metadata": {},
   "source": [
    "## Handling missing values in Dividend Yield"
   ]
  },
  {
   "cell_type": "code",
   "execution_count": 41,
   "id": "697c0fe1-406a-4eaa-8ae4-654caf543578",
   "metadata": {},
   "outputs": [
    {
     "data": {
      "text/plain": [
       "['IDEA.NS', 'YESBANK.NS']"
      ]
     },
     "execution_count": 41,
     "metadata": {},
     "output_type": "execute_result"
    }
   ],
   "source": [
    "missing_dividend_tickers = dataset[dataset['dividendYield'].isna()]['ticker'].tolist()\n",
    "missing_dividend_tickers"
   ]
  },
  {
   "cell_type": "code",
   "execution_count": 42,
   "id": "65f4d751-5090-40cf-a35a-9963b1fb87ee",
   "metadata": {},
   "outputs": [
    {
     "data": {
      "text/plain": [
       "Date\n",
       "2015-07-01 00:00:00+05:30    0.361781\n",
       "2015-10-01 00:00:00+05:30    0.000000\n",
       "2016-01-01 00:00:00+05:30    0.000000\n",
       "2016-04-01 00:00:00+05:30    0.000000\n",
       "2016-07-01 00:00:00+05:30    0.361781\n",
       "2016-10-01 00:00:00+05:30    0.000000\n",
       "2017-01-01 00:00:00+05:30    0.000000\n",
       "2017-04-01 00:00:00+05:30    0.000000\n",
       "2017-07-01 00:00:00+05:30    0.000000\n",
       "2017-10-01 00:00:00+05:30    0.000000\n",
       "2018-01-01 00:00:00+05:30    0.000000\n",
       "2018-04-01 00:00:00+05:30    0.000000\n",
       "2018-07-01 00:00:00+05:30    0.000000\n",
       "2018-10-01 00:00:00+05:30    0.000000\n",
       "2019-01-01 00:00:00+05:30    0.000000\n",
       "2019-04-01 00:00:00+05:30    0.000000\n",
       "2019-07-01 00:00:00+05:30    0.000000\n",
       "2019-10-01 00:00:00+05:30    0.000000\n",
       "2020-01-01 00:00:00+05:30    0.000000\n",
       "2020-04-01 00:00:00+05:30    0.000000\n",
       "2020-07-01 00:00:00+05:30    0.000000\n",
       "2020-10-01 00:00:00+05:30    0.000000\n",
       "2021-01-01 00:00:00+05:30    0.000000\n",
       "2021-04-01 00:00:00+05:30    0.000000\n",
       "2021-07-01 00:00:00+05:30    0.000000\n",
       "2021-10-01 00:00:00+05:30    0.000000\n",
       "2022-01-01 00:00:00+05:30    0.000000\n",
       "2022-04-01 00:00:00+05:30    0.000000\n",
       "2022-07-01 00:00:00+05:30    0.000000\n",
       "2022-10-01 00:00:00+05:30    0.000000\n",
       "2023-01-01 00:00:00+05:30    0.000000\n",
       "2023-04-01 00:00:00+05:30    0.000000\n",
       "2023-07-01 00:00:00+05:30    0.000000\n",
       "2023-10-01 00:00:00+05:30    0.000000\n",
       "2024-01-01 00:00:00+05:30    0.000000\n",
       "2024-04-01 00:00:00+05:30    0.000000\n",
       "2024-07-01 00:00:00+05:30    0.000000\n",
       "2024-10-01 00:00:00+05:30    0.000000\n",
       "2025-01-01 00:00:00+05:30    0.000000\n",
       "2025-04-01 00:00:00+05:30    0.000000\n",
       "2025-07-01 00:00:00+05:30    0.000000\n",
       "Name: Dividends, dtype: float64"
      ]
     },
     "execution_count": 42,
     "metadata": {},
     "output_type": "execute_result"
    }
   ],
   "source": [
    "dy_test=yf.Ticker(missing_dividend_tickers[0])\n",
    "(dy_test.history(period='10y',interval='3mo')['Dividends'])"
   ]
  },
  {
   "cell_type": "markdown",
   "id": "9676b131-fce6-48bd-a72c-66614399fbce",
   "metadata": {},
   "source": [
    "#### see if a company has atleast 5 non-zero dividend values in the past 10 years. If yes, then apply time series forecasting to predict the missing dividend yield value, else fill the value with 0."
   ]
  },
  {
   "cell_type": "code",
   "execution_count": 44,
   "id": "4c16c8f7-f056-4f34-a082-da762f5fa4e9",
   "metadata": {},
   "outputs": [],
   "source": [
    "def forecast_dividend_yield(series,ticker_symbol):\n",
    "    try:\n",
    "        series = series[series > 0]\n",
    "        series.index = pd.to_datetime(series.index)\n",
    "        series = series.resample('Q').sum()\n",
    "\n",
    "        if len(series) < 6:\n",
    "            return series.mean() \n",
    "        model = ExponentialSmoothing(series, trend='add', seasonal=None).fit()\n",
    "        forecast = model.forecast(1)[0]\n",
    "        price_series = yf.download(ticker_symbol, period=\"1d\")['Close']\n",
    "        latest_price = price_series[-1] if not price_series.empty else 1\n",
    "        return round((forecast * 4 / latest_price) * 100, 2)\n",
    "\n",
    "    except Exception as e:\n",
    "        print(f\"Forecast failed: {e}\")\n",
    "        return series.mean()\n",
    "\n",
    "def handle_missing_dividendYield(missing_dividend_ticker, threshold=5):\n",
    "    ticker = yf.Ticker(missing_dividend_ticker)\n",
    "    try:\n",
    "        dividend_history = ticker.history(period=\"10y\")[\"Dividends\"]\n",
    "        non_zero_count = (dividend_history > 0).sum()\n",
    "        if non_zero_count < threshold:\n",
    "            return 0.0 \n",
    "        else:\n",
    "            return forecast_dividend_yield(dividend_history,missing_dividend_ticker)\n",
    "    except Exception as e:\n",
    "        print(f\"Error fetching data for {missing_dividend_ticker}: {e}\")\n",
    "        return 0.0"
   ]
  },
  {
   "cell_type": "code",
   "execution_count": 45,
   "id": "2b1cbed2-618d-4259-9939-54cf4050ee44",
   "metadata": {},
   "outputs": [],
   "source": [
    "for ticker in missing_dividend_tickers:\n",
    "    dataset.loc[dataset['ticker'] == ticker, 'dividendYield'] = handle_missing_dividendYield(ticker)\n"
   ]
  },
  {
   "cell_type": "markdown",
   "id": "ac46c0de-205b-43ad-8eb6-b7ebbf204b2e",
   "metadata": {},
   "source": [
    "## Handling missing values in Current Price"
   ]
  },
  {
   "cell_type": "code",
   "execution_count": 63,
   "id": "4bb86b3e-f845-4f75-b8bb-602ae99d8eda",
   "metadata": {},
   "outputs": [
    {
     "data": {
      "text/plain": [
       "[]"
      ]
     },
     "execution_count": 63,
     "metadata": {},
     "output_type": "execute_result"
    }
   ],
   "source": [
    "missing_currentPrice_tickers = dataset[dataset['currentPrice'].isna()]['ticker'].tolist()\n",
    "missing_currentPrice_tickers"
   ]
  },
  {
   "cell_type": "markdown",
   "id": "6d6d51a8-c19e-4e59-ba55-c11f0d6cc0ac",
   "metadata": {},
   "source": [
    "### Let's fallback to last to the recent closing price"
   ]
  },
  {
   "cell_type": "code",
   "execution_count": 68,
   "id": "cbc0d199-684d-44bc-9b34-0b10b53f9af9",
   "metadata": {},
   "outputs": [],
   "source": [
    "def handle_missing_current_price(ticker_symbol):\n",
    "    try:\n",
    "        ticker = yf.Ticker(ticker_symbol)\n",
    "        price = ticker.info.get('currentPrice', None)\n",
    "        if price is None:\n",
    "            hist = ticker.history(period=\"1d\", interval=\"1m\")\n",
    "            if not hist.empty and 'Close' in hist.columns:\n",
    "                price = hist['Close'].iloc[-1]\n",
    "                print(f\"Fetched fallback price for {ticker_symbol}: {price}\")\n",
    "        \n",
    "        return price if price is not None else np.nan\n",
    "    except Exception as e:\n",
    "        print(f\"Error fetching price for {ticker_symbol}: {e}\")\n",
    "        return np.nan"
   ]
  },
  {
   "cell_type": "code",
   "execution_count": 70,
   "id": "b0405f13-4919-49e9-9a04-4417448fdaaf",
   "metadata": {},
   "outputs": [],
   "source": [
    "price_map = {}\n",
    "for ticker in missing_currentPrice_tickers:\n",
    "    price_map[ticker] = handle_missing_current_price(ticker)\n",
    "\n",
    "dataset['currentPrice'] = dataset.apply(\n",
    "    lambda row: price_map[row['ticker']] if pd.isna(row['currentPrice']) and row['ticker'] in price_map else row['currentPrice'],\n",
    "    axis=1\n",
    ")"
   ]
  },
  {
   "cell_type": "markdown",
   "id": "5b97fccd-6098-42ec-bc73-82d07b2fc779",
   "metadata": {},
   "source": [
    "## Handling missing values in Beta"
   ]
  },
  {
   "cell_type": "markdown",
   "id": "babd2e59-ab20-48eb-97ec-7f1ec999bc37",
   "metadata": {},
   "source": [
    "### Let's see the correlation between Beta and other Features"
   ]
  },
  {
   "cell_type": "code",
   "execution_count": 74,
   "id": "e190420a-edd0-40f2-a4d5-f715e7a5828e",
   "metadata": {},
   "outputs": [
    {
     "name": "stdout",
     "output_type": "stream",
     "text": [
      "beta             1.000000\n",
      "currentPrice     0.004176\n",
      "marketCap       -0.021689\n",
      "dividendYield   -0.172520\n",
      "volume          -0.349374\n",
      "Name: beta, dtype: float64\n"
     ]
    }
   ],
   "source": [
    "df_beta_notna = dataset[dataset['beta'].notna()]\n",
    "numeric_cols = df_beta_notna.select_dtypes(include=['float64', 'int64']).columns.tolist()\n",
    "numeric_cols.remove('beta')\n",
    "correlations = df_beta_notna[numeric_cols + ['beta']].corr()\n",
    "print(correlations['beta'].sort_values(ascending=False))"
   ]
  },
  {
   "cell_type": "code",
   "execution_count": 80,
   "id": "e5c62cf0-a5f3-4663-a96a-885d7cbd8bb3",
   "metadata": {},
   "outputs": [
    {
     "data": {
      "image/png": "[encoded data removed]",
      "text/plain": [
       "<Figure size 640x480 with 2 Axes>"
      ]
     },
     "metadata": {},
     "output_type": "display_data"
    }
   ],
   "source": [
    "sns.heatmap(df_beta_notna[numeric_cols + ['beta']].corr(), annot=True, cmap='coolwarm')\n",
    "plt.title(\"Correlation Matrix\")\n",
    "plt.show()"
   ]
  },
  {
   "cell_type": "code",
   "execution_count": null,
   "id": "76533b5e-dfaa-400a-a5df-689e4daef39e",
   "metadata": {},
   "outputs": [],
   "source": []
  }
 ],
 "metadata": {
  "kernelspec": {
   "display_name": "Python (base)",
   "language": "python",
   "name": "base"
  },
  "language_info": {
   "codemirror_mode": {
    "name": "ipython",
    "version": 3
   },
   "file_extension": ".py",
   "mimetype": "text/x-python",
   "name": "python",
   "nbconvert_exporter": "python",
   "pygments_lexer": "ipython3",
   "version": "3.12.2"
  }
 },
 "nbformat": 4,
 "nbformat_minor": 5
}
